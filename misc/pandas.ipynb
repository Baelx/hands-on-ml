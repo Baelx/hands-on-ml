{
 "cells": [
  {
   "cell_type": "markdown",
   "source": [
    "# Pandas"
   ],
   "metadata": {}
  },
  {
   "cell_type": "code",
   "execution_count": 2,
   "source": [
    "import pandas as pd\n",
    "HOUSING_PATH = os.path.join('../', 'datasets', 'housing')\n",
    "def load_housing_data(housing_path=HOUSING_PATH):    \n",
    "    csv_path = os.path.join(housing_path, \"housing.csv\")\n",
    "    return pd.read_csv(csv_path)\n",
    "\n",
    "housing = load_housing_data()"
   ],
   "outputs": [],
   "metadata": {}
  },
  {
   "cell_type": "markdown",
   "source": [
    "Pandas is a library that allows you to work with CSV like series data. It contains powerful data analysis tools."
   ],
   "metadata": {}
  },
  {
   "cell_type": "markdown",
   "source": [
    "## Glossary"
   ],
   "metadata": {}
  },
  {
   "cell_type": "markdown",
   "source": [
    "`value_counts()` is a method which shows you the counts of unique values in a series. By default it displays the values from greatest occurence to least occuring."
   ],
   "metadata": {}
  },
  {
   "cell_type": "code",
   "execution_count": 11,
   "source": [
    "housing['median_income'].value_counts(normalize=False)"
   ],
   "outputs": [
    {
     "output_type": "execute_result",
     "data": {
      "text/plain": [
       "3.1250     49\n",
       "15.0001    49\n",
       "2.8750     46\n",
       "2.6250     44\n",
       "4.1250     44\n",
       "           ..\n",
       "5.0476      1\n",
       "4.6379      1\n",
       "2.9402      1\n",
       "6.0256      1\n",
       "5.5647      1\n",
       "Name: median_income, Length: 12928, dtype: int64"
      ]
     },
     "metadata": {},
     "execution_count": 11
    }
   ],
   "metadata": {}
  },
  {
   "cell_type": "code",
   "execution_count": null,
   "source": [],
   "outputs": [],
   "metadata": {}
  }
 ],
 "metadata": {
  "orig_nbformat": 4,
  "language_info": {
   "name": "python",
   "version": "3.8.10",
   "mimetype": "text/x-python",
   "codemirror_mode": {
    "name": "ipython",
    "version": 3
   },
   "pygments_lexer": "ipython3",
   "nbconvert_exporter": "python",
   "file_extension": ".py"
  },
  "kernelspec": {
   "name": "python3",
   "display_name": "Python 3.8.10 64-bit ('ml_env': venv)"
  },
  "interpreter": {
   "hash": "87219339e92d8125042f1cc1ca7f39f238dcbedbf7c6d66ae03100958e0b2e6e"
  }
 },
 "nbformat": 4,
 "nbformat_minor": 2
}